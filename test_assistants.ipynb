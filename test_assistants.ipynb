{
 "cells": [
  {
   "cell_type": "markdown",
   "metadata": {},
   "source": [
    "# Env"
   ]
  },
  {
   "cell_type": "code",
   "execution_count": 2,
   "metadata": {},
   "outputs": [],
   "source": [
    "import dotenv\n",
    "from openai import OpenAI\n",
    "import json\n"
   ]
  },
  {
   "cell_type": "code",
   "execution_count": 3,
   "metadata": {},
   "outputs": [],
   "source": [
    "dotenv.load_dotenv()\n",
    "client = OpenAI()"
   ]
  },
  {
   "cell_type": "markdown",
   "metadata": {},
   "source": [
    "# Creating the Functions"
   ]
  },
  {
   "cell_type": "code",
   "execution_count": 4,
   "metadata": {},
   "outputs": [],
   "source": [
    "click_object = {\n",
    "    \"type\": \"function\",\n",
    "    \"function\": {\n",
    "      \"name\": \"click\",\n",
    "      \"description\": \"Click at a specific pixel location\",\n",
    "      \"parameters\": {\n",
    "        \"type\": \"object\",\n",
    "        \"properties\": {\n",
    "          \"x\": {\n",
    "            \"type\": \"number\",\n",
    "            \"description\": \"The x value of where to click\"\n",
    "          },\n",
    "          \"y\": {\n",
    "            \"type\": \"number\",\n",
    "            \"description\": \"The y value of where to click\"\n",
    "          }\n",
    "        },\n",
    "        \"required\": [\n",
    "          \"x\",\n",
    "          \"y\"\n",
    "        ]\n",
    "      }\n",
    "    }\n",
    "}"
   ]
  },
  {
   "cell_type": "code",
   "execution_count": 5,
   "metadata": {},
   "outputs": [],
   "source": [
    "get_description_of_screen_object = {\n",
    "    \"type\": \"function\",\n",
    "    \"function\": {\n",
    "        \"name\": \"get_description_of_screen\",\n",
    "        \"description\": \"Fetch a text description of the user's entire screen\",\n",
    "    }\n",
    "}"
   ]
  },
  {
   "cell_type": "code",
   "execution_count": 6,
   "metadata": {},
   "outputs": [],
   "source": [
    "mdfind_object = {\n",
    "    \"type\": \"function\",\n",
    "    \"function\": {\n",
    "        \"name\": \"mdfind\",\n",
    "        \"description\": \"Find files in the user's computer using Apple's mdfind command\",\n",
    "        \"parameters\": {\n",
    "            \"type\": \"object\",\n",
    "            \"properties\": {\n",
    "                \"query\": {\n",
    "                    \"type\": \"string\",\n",
    "                    \"description\": \"The query to search for\"\n",
    "                }\n",
    "            },\n",
    "            \"required\": [\"query\"]\n",
    "        }\n",
    "    }\n",
    "}"
   ]
  },
  {
   "cell_type": "code",
   "execution_count": 7,
   "metadata": {},
   "outputs": [],
   "source": [
    "open_object = {\n",
    "    \"type\": \"function\",\n",
    "    \"function\": {\n",
    "        \"name\": \"open\",\n",
    "        \"description\": \"Open a file (or a folder or URL), using Apple's open command\",\n",
    "        \"parameters\": {\n",
    "            \"type\": \"object\", \n",
    "            \"properties\": {\n",
    "                \"filepath\": {\n",
    "                    \"type\": \"string\",\n",
    "                    \"description\": \"The path to the file to open\"\n",
    "                },\n",
    "                \"reveal\": {\n",
    "                    \"type\": \"boolean\",\n",
    "                    \"description\": \"Whether to reveal the file in the Finder instead of opening it\",\n",
    "                    \"default\": False\n",
    "                },\n",
    "                \"background\": {\n",
    "                    \"type\": \"boolean\",\n",
    "                    \"description\": \"Whether to open the app in the background\",\n",
    "                    \"default\": False\n",
    "                },\n",
    "            },\n",
    "            \"required\": [\"filepath\"]\n",
    "        }\n",
    "    }\n",
    "}"
   ]
  },
  {
   "cell_type": "code",
   "execution_count": 8,
   "metadata": {},
   "outputs": [],
   "source": [
    "write_object = {\n",
    "    \"type\": \"function\",\n",
    "    \"function\": {\n",
    "        \"name\": \"write\",\n",
    "        \"description\": \"Controls the user's keyboard to write plain text\",\n",
    "        \"parameters\": {\n",
    "            \"type\": \"object\",\n",
    "            \"properties\": {\n",
    "                \"text\": {\n",
    "                    \"type\": \"string\",\n",
    "                    \"description\": \"The text to write\"\n",
    "                },\n",
    "            },\n",
    "            \"required\": [\"text\"]\n",
    "        }\n",
    "    }\n",
    "}"
   ]
  },
  {
   "cell_type": "code",
   "execution_count": 9,
   "metadata": {},
   "outputs": [],
   "source": [
    "import pyautogui\n",
    "\n",
    "press_object = {\n",
    "    \"type\": \"function\",\n",
    "    \"function\": {\n",
    "        \"name\": \"press\",\n",
    "        \"description\": \"The key to be pressed.\",\n",
    "        \"parameters\": {\n",
    "            \"type\": \"object\",\n",
    "            \"properties\": {\n",
    "                \"key\": {\n",
    "                    \"type\": \"string\",\n",
    "                    \"enum\": pyautogui.KEYBOARD_KEYS\n",
    "                }\n",
    "            },\n",
    "            \"required\": [\"key\"]\n",
    "        }\n",
    "    }\n",
    "}"
   ]
  },
  {
   "cell_type": "code",
   "execution_count": 10,
   "metadata": {},
   "outputs": [],
   "source": [
    "hot_keys_object = {\n",
    "    \"type\": \"function\",\n",
    "    \"function\": {\n",
    "        \"name\": \"hot_keys\",\n",
    "        \"description\": \"\"\"Performs key down presses on the arguments passed in order, then performs key releases in reverse order. The effect is that calling hotkey('ctrl', 'shift', 'c') would perform a \"Ctrl-Shift-C\" hotkey/keyboard shortcut press.\"\"\",\n",
    "        \"parameters\": {\n",
    "            \"type\": \"object\",\n",
    "            \"properties\": {\n",
    "                \"keys\": {\n",
    "                    \"type\": \"array\",\n",
    "                    \"items\": {\n",
    "                        \"type\": \"string\",\n",
    "                        \"enum\": pyautogui.KEYBOARD_KEYS\n",
    "                    },\n",
    "                    \"description\": \"The keys to type\"\n",
    "                }\n",
    "            },\n",
    "            \"required\": [\"keys\"]\n",
    "        }\n",
    "    }\n",
    "}"
   ]
  },
  {
   "cell_type": "code",
   "execution_count": 11,
   "metadata": {},
   "outputs": [],
   "source": [
    "prompt_input_object = {\n",
    "    \"type\": \"function\", \n",
    "    \"function\": {\n",
    "        \"name\": \"prompt_input\",\n",
    "        \"description\": \"Prompt the user for some form of input\",\n",
    "        \"parameters\": {\n",
    "            \"type\": \"object\",\n",
    "            \"properties\": {\n",
    "                \"text\": {\n",
    "                    \"type\": \"string\",\n",
    "                    \"description\": \"The text to display to the user to prompt for input\"\n",
    "                }\n",
    "            },\n",
    "            \"required\": [\"text\"]\n",
    "        }\n",
    "    }\n",
    "}\n",
    "\n",
    "mark_completed_object = {\n",
    "    \"type\": \"function\",\n",
    "    \"function\": {\n",
    "        \"name\": \"mark_completed\",\n",
    "        \"description\": \"Marks the overall task as completed. Ends the session with the user.\",\n",
    "    }\n",
    "}"
   ]
  },
  {
   "cell_type": "markdown",
   "metadata": {},
   "source": [
    "# assistant stuff"
   ]
  },
  {
   "cell_type": "code",
   "execution_count": 12,
   "metadata": {},
   "outputs": [],
   "source": [
    "assistant = client.beta.assistants.create(\n",
    "    name=\"Mac OS Assistant\",\n",
    "    instructions=\"\"\"You are an assistant created by Apple to call functions to dynamically automate workflows in Mac OS. Users give you tasks, and you need to perform them. You can make reasonable assumptions about user's intents.\n",
    "    \n",
    "    The first thing you will do is to call `get_description_of_screen` to get a description of the user's entire screen. You will then generate a list of subtasks required to complete the overall task. After that, you will call `promptUser` to let them approve the list of subtasks. If they do, then you will proceed with functions to complete the subtasks, thereby completing the overall task.\n",
    "    \n",
    "    ONLY communicate through function calls. If you need to communicate with the user, call `promptUser`. \n",
    "    \n",
    "    Example:\n",
    "        User: Open cat.jpg\n",
    "        Assistant: promptUser(\"I will search for the file on your computer using mdfind\\n And then I will open it using open. Does that sound good?\")\n",
    "        User: Yes\n",
    "        Asssistant: mdfind('cat.jpg')\n",
    "        User: /Users/john/Downloads/cat.jpg\n",
    "        Assistant: open(filepath=\"/Users/john/Downloads/cat.jpg\")        \n",
    "    \n",
    "    If you're stuck, remember to call `get_description_of_screen` to get a description of the user's screen.\n",
    "    \"\"\",\n",
    "    tools=[click_object, get_description_of_screen_object, mdfind_object, open_object, write_object, press_object, hot_keys_object, prompt_input_object, mark_completed_object],\n",
    "    model=\"gpt-4-1106-preview\",\n",
    ")"
   ]
  },
  {
   "cell_type": "code",
   "execution_count": 13,
   "metadata": {},
   "outputs": [],
   "source": [
    "thread = client.beta.threads.create()"
   ]
  },
  {
   "cell_type": "code",
   "execution_count": 14,
   "metadata": {},
   "outputs": [],
   "source": [
    "message = client.beta.threads.messages.create(\n",
    "    thread_id=thread.id,\n",
    "    role=\"user\",\n",
    "    content=\"Send a text to Peter\",\n",
    ")"
   ]
  },
  {
   "cell_type": "code",
   "execution_count": 15,
   "metadata": {},
   "outputs": [],
   "source": [
    "run = client.beta.threads.runs.create(\n",
    "    thread_id=thread.id,\n",
    "    assistant_id=assistant.id\n",
    ")"
   ]
  },
  {
   "cell_type": "code",
   "execution_count": 57,
   "metadata": {},
   "outputs": [],
   "source": [
    "import time\n",
    "\n",
    "def wait_for_run(run, thread):\n",
    "    while run.status == \"queued\" or run.status == \"in_progress\":\n",
    "        run = client.beta.threads.runs.retrieve(\n",
    "            thread_id=thread.id,\n",
    "            run_id=run.id\n",
    "        )\n",
    "        time.sleep(0.5)\n",
    "    print(\"Run is now \" + run.status)\n",
    "    return run"
   ]
  },
  {
   "cell_type": "code",
   "execution_count": 58,
   "metadata": {},
   "outputs": [
    {
     "name": "stdout",
     "output_type": "stream",
     "text": [
      "Run is now requires_action\n",
      "Calling get_description_of_screen with arguments ({})\n",
      "TOOL OUTPUTS:\n",
      "[{'tool_call_id': 'call_mDLXpnWbabV2fYQ54b6NxF2r', 'output': '\"You\\'re looking at a screenshot of Visual Studio Code, a code editor, with an open file named \\\\\"test_assistants.ipynb.\\\\\" The file appears to be a Jupyter notebook as indicated by the file extension `.ipynb` and the cell-based interface within Visual Studio Code.\\\\n\\\\nThe screen is split into two main areas:\\\\n\\\\n1. **Code Area (Right Side):**\\\\n   - The right side shows the content of the \\\\\"test_assistants.ipynb\\\\\" file, which includes Python code. The visible code includes part of a function or a script that utilizes a variable called `client` to interact with some kind of threading and messaging system, which seems to be operating in a beta environment (as suggested by `client.beta`). \\\\n   - There are two visible cells, one that has run and completed, as indicated by the checkmark next to the number [42], and a runtime of 0.1s. The cell has a partial output message visible with ellipses, indicating more text is not currently shown.\\\\n   - Below is an empty cell, indicated by the brackets [ ], ready for new code to be entered.\\\\n   - The code area also shows the cell number [58], which has run with\"'}]\n",
      "Run is now requires_action\n",
      "Calling prompt_input with arguments ({'text': 'Please provide the phone number or contact information for Peter to send the text message.'})\n",
      "TOOL OUTPUTS:\n",
      "[{'tool_call_id': 'call_6fcy74WHveHm5qqjcXG2FQ5H', 'output': '\"Name is Peter liu; saved in my contacts\"'}]\n",
      "Run is now requires_action\n",
      "Calling hot_keys with arguments ({'keys': ['command', 'space']})\n",
      "TOOL OUTPUTS:\n",
      "[{'tool_call_id': 'call_d9kpA1PNysqSEuPZ6YcK0etb', 'output': '{\"success\": true}'}]\n",
      "Run is now requires_action\n",
      "Calling write with arguments ({'text': 'Messages'})\n",
      "TOOL OUTPUTS:\n",
      "[{'tool_call_id': 'call_6gcwFwDeEtUsJRrw0VuehcEh', 'output': '{\"success\": true}'}]\n",
      "Run is now requires_action\n",
      "Calling press with arguments ({'key': 'return'})\n",
      "TOOL OUTPUTS:\n",
      "[{'tool_call_id': 'call_fDJKDf7iuY9m959ZgDgDn54Z', 'output': '{\"success\": true}'}]\n",
      "Run is now requires_action\n",
      "Calling write with arguments ({'text': 'Peter Liu'})\n",
      "TOOL OUTPUTS:\n",
      "[{'tool_call_id': 'call_Ihb68sJL1MsD2iII2dLw8rNT', 'output': '{\"success\": true}'}]\n",
      "Run is now requires_action\n",
      "Calling press with arguments ({'key': 'return'})\n",
      "TOOL OUTPUTS:\n",
      "[{'tool_call_id': 'call_3IqyCVIREDdSeUieNF7A8qvv', 'output': '{\"success\": true}'}]\n",
      "Run is now requires_action\n",
      "Calling prompt_input with arguments ({'text': 'What message would you like to send to Peter?'})\n",
      "TOOL OUTPUTS:\n",
      "[{'tool_call_id': 'call_ggVf9wh41ppSn5RFhicixDjB', 'output': '\"\"'}]\n",
      "Run is now requires_action\n",
      "Calling prompt_input with arguments ({'text': 'It seems the previous input was empty. Please enter the message you would like to send to Peter.'})\n"
     ]
    },
    {
     "ename": "KeyboardInterrupt",
     "evalue": "Interrupted by user",
     "output_type": "error",
     "traceback": [
      "\u001b[0;31m---------------------------------------------------------------------------\u001b[0m",
      "\u001b[0;31mKeyboardInterrupt\u001b[0m                         Traceback (most recent call last)",
      "Cell \u001b[0;32mIn[58], line 71\u001b[0m\n\u001b[1;32m     66\u001b[0m     obj[\u001b[38;5;124m\"\u001b[39m\u001b[38;5;124moutput\u001b[39m\u001b[38;5;124m\"\u001b[39m] \u001b[38;5;241m=\u001b[39m hot_keys(\n\u001b[1;32m     67\u001b[0m         arguments[\u001b[38;5;124m\"\u001b[39m\u001b[38;5;124mkeys\u001b[39m\u001b[38;5;124m\"\u001b[39m]\n\u001b[1;32m     68\u001b[0m     )\n\u001b[1;32m     70\u001b[0m \u001b[38;5;28;01melif\u001b[39;00m func\u001b[38;5;241m.\u001b[39mname \u001b[38;5;241m==\u001b[39m \u001b[38;5;124m\"\u001b[39m\u001b[38;5;124mprompt_input\u001b[39m\u001b[38;5;124m\"\u001b[39m:\n\u001b[0;32m---> 71\u001b[0m     obj[\u001b[38;5;124m\"\u001b[39m\u001b[38;5;124moutput\u001b[39m\u001b[38;5;124m\"\u001b[39m] \u001b[38;5;241m=\u001b[39m \u001b[38;5;28;43minput\u001b[39;49m\u001b[43m(\u001b[49m\n\u001b[1;32m     72\u001b[0m \u001b[43m        \u001b[49m\u001b[43marguments\u001b[49m\u001b[43m[\u001b[49m\u001b[38;5;124;43m\"\u001b[39;49m\u001b[38;5;124;43mtext\u001b[39;49m\u001b[38;5;124;43m\"\u001b[39;49m\u001b[43m]\u001b[49m\n\u001b[1;32m     73\u001b[0m \u001b[43m    \u001b[49m\u001b[43m)\u001b[49m\n\u001b[1;32m     75\u001b[0m \u001b[38;5;28;01melif\u001b[39;00m func\u001b[38;5;241m.\u001b[39mname \u001b[38;5;241m==\u001b[39m \u001b[38;5;124m\"\u001b[39m\u001b[38;5;124mmark_completed\u001b[39m\u001b[38;5;124m\"\u001b[39m:\n\u001b[1;32m     76\u001b[0m     completed \u001b[38;5;241m=\u001b[39m \u001b[38;5;28;01mTrue\u001b[39;00m\n",
      "File \u001b[0;32m~/CS/projects/puppeteer/.venv/lib/python3.9/site-packages/ipykernel/kernelbase.py:1262\u001b[0m, in \u001b[0;36mKernel.raw_input\u001b[0;34m(self, prompt)\u001b[0m\n\u001b[1;32m   1260\u001b[0m     msg \u001b[38;5;241m=\u001b[39m \u001b[38;5;124m\"\u001b[39m\u001b[38;5;124mraw_input was called, but this frontend does not support input requests.\u001b[39m\u001b[38;5;124m\"\u001b[39m\n\u001b[1;32m   1261\u001b[0m     \u001b[38;5;28;01mraise\u001b[39;00m StdinNotImplementedError(msg)\n\u001b[0;32m-> 1262\u001b[0m \u001b[38;5;28;01mreturn\u001b[39;00m \u001b[38;5;28;43mself\u001b[39;49m\u001b[38;5;241;43m.\u001b[39;49m\u001b[43m_input_request\u001b[49m\u001b[43m(\u001b[49m\n\u001b[1;32m   1263\u001b[0m \u001b[43m    \u001b[49m\u001b[38;5;28;43mstr\u001b[39;49m\u001b[43m(\u001b[49m\u001b[43mprompt\u001b[49m\u001b[43m)\u001b[49m\u001b[43m,\u001b[49m\n\u001b[1;32m   1264\u001b[0m \u001b[43m    \u001b[49m\u001b[38;5;28;43mself\u001b[39;49m\u001b[38;5;241;43m.\u001b[39;49m\u001b[43m_parent_ident\u001b[49m\u001b[43m[\u001b[49m\u001b[38;5;124;43m\"\u001b[39;49m\u001b[38;5;124;43mshell\u001b[39;49m\u001b[38;5;124;43m\"\u001b[39;49m\u001b[43m]\u001b[49m\u001b[43m,\u001b[49m\n\u001b[1;32m   1265\u001b[0m \u001b[43m    \u001b[49m\u001b[38;5;28;43mself\u001b[39;49m\u001b[38;5;241;43m.\u001b[39;49m\u001b[43mget_parent\u001b[49m\u001b[43m(\u001b[49m\u001b[38;5;124;43m\"\u001b[39;49m\u001b[38;5;124;43mshell\u001b[39;49m\u001b[38;5;124;43m\"\u001b[39;49m\u001b[43m)\u001b[49m\u001b[43m,\u001b[49m\n\u001b[1;32m   1266\u001b[0m \u001b[43m    \u001b[49m\u001b[43mpassword\u001b[49m\u001b[38;5;241;43m=\u001b[39;49m\u001b[38;5;28;43;01mFalse\u001b[39;49;00m\u001b[43m,\u001b[49m\n\u001b[1;32m   1267\u001b[0m \u001b[43m\u001b[49m\u001b[43m)\u001b[49m\n",
      "File \u001b[0;32m~/CS/projects/puppeteer/.venv/lib/python3.9/site-packages/ipykernel/kernelbase.py:1305\u001b[0m, in \u001b[0;36mKernel._input_request\u001b[0;34m(self, prompt, ident, parent, password)\u001b[0m\n\u001b[1;32m   1302\u001b[0m \u001b[38;5;28;01mexcept\u001b[39;00m \u001b[38;5;167;01mKeyboardInterrupt\u001b[39;00m:\n\u001b[1;32m   1303\u001b[0m     \u001b[38;5;66;03m# re-raise KeyboardInterrupt, to truncate traceback\u001b[39;00m\n\u001b[1;32m   1304\u001b[0m     msg \u001b[38;5;241m=\u001b[39m \u001b[38;5;124m\"\u001b[39m\u001b[38;5;124mInterrupted by user\u001b[39m\u001b[38;5;124m\"\u001b[39m\n\u001b[0;32m-> 1305\u001b[0m     \u001b[38;5;28;01mraise\u001b[39;00m \u001b[38;5;167;01mKeyboardInterrupt\u001b[39;00m(msg) \u001b[38;5;28;01mfrom\u001b[39;00m \u001b[38;5;28;01mNone\u001b[39;00m\n\u001b[1;32m   1306\u001b[0m \u001b[38;5;28;01mexcept\u001b[39;00m \u001b[38;5;167;01mException\u001b[39;00m:\n\u001b[1;32m   1307\u001b[0m     \u001b[38;5;28mself\u001b[39m\u001b[38;5;241m.\u001b[39mlog\u001b[38;5;241m.\u001b[39mwarning(\u001b[38;5;124m\"\u001b[39m\u001b[38;5;124mInvalid Message:\u001b[39m\u001b[38;5;124m\"\u001b[39m, exc_info\u001b[38;5;241m=\u001b[39m\u001b[38;5;28;01mTrue\u001b[39;00m)\n",
      "\u001b[0;31mKeyboardInterrupt\u001b[0m: Interrupted by user"
     ]
    },
    {
     "ename": "",
     "evalue": "",
     "output_type": "error",
     "traceback": [
      "\u001b[1;31mThe Kernel crashed while executing code in the the current cell or a previous cell. Please review the code in the cell(s) to identify a possible cause of the failure. Click <a href='https://aka.ms/vscodeJupyterKernelCrash'>here</a> for more info. View Jupyter <a href='command:jupyter.viewOutput'>log</a> for further details."
     ]
    }
   ],
   "source": [
    "import time\n",
    "\n",
    "from automation_for_assistants import click_on, get_description_of_screen, mdfind, open, press, write, hot_keys\n",
    "\n",
    "completed = False\n",
    "\n",
    "while not completed:\n",
    "    run = wait_for_run(run, thread)\n",
    "    while run.status in (\"completed\", \"failed\", \"expired\", \"cancelled\"):\n",
    "        print('Restarting run')\n",
    "        client.beta.threads.messages.create(\n",
    "            thread_id=thread.id,\n",
    "            role=\"user\",\n",
    "            content=\"I can't read this output! If you're trying to mark the task as completed, please call `mark_completed`. And if you're trying to talk to me, please call `promptUser`\",\n",
    "        )\n",
    "        \n",
    "        run = client.beta.threads.runs.create(\n",
    "            thread_id=thread.id,\n",
    "            assistant_id=assistant.id\n",
    "        )\n",
    "        \n",
    "        run = wait_for_run(run, thread)\n",
    "    \n",
    "    calls = run.required_action.submit_tool_outputs.tool_calls\n",
    "    tool_outputs = []\n",
    "    for tool_call in calls:\n",
    "        obj = {\n",
    "            \"tool_call_id\": tool_call.id,\n",
    "            \"output\": \"\"\n",
    "        }\n",
    "        \n",
    "        func = tool_call.function\n",
    "        arguments = json.loads(func.arguments)\n",
    "        print(f'Calling {func.name} with arguments ({arguments})')\n",
    "        \n",
    "        \n",
    "        if func.name == \"open\":\n",
    "            obj[\"output\"] = open(\n",
    "                arguments[\"filepath\"],\n",
    "                arguments[\"reveal\"] if \"reveal\" in arguments else False,\n",
    "                arguments[\"background\"] if \"background\" in arguments else False\n",
    "            )\n",
    "        elif func.name == \"click\":\n",
    "            obj[\"output\"] = click_on(\n",
    "                arguments[\"x\"],\n",
    "                arguments[\"y\"]\n",
    "            )\n",
    "        elif func.name == \"mdfind\":\n",
    "            obj[\"output\"] = mdfind(\n",
    "                arguments[\"query\"]\n",
    "            )\n",
    "        elif func.name == \"get_description_of_screen\":\n",
    "            obj[\"output\"] = get_description_of_screen(\n",
    "                client\n",
    "            )\n",
    "        elif func.name == \"press\":\n",
    "            obj[\"output\"] = press(\n",
    "                arguments[\"key\"]\n",
    "            )\n",
    "            \n",
    "        elif func.name == \"write\":\n",
    "            obj[\"output\"] = write(\n",
    "                arguments[\"text\"]\n",
    "            )\n",
    "        elif func.name == \"hot_keys\":\n",
    "            obj[\"output\"] = hot_keys(\n",
    "                arguments[\"keys\"]\n",
    "            )\n",
    "        \n",
    "        elif func.name == \"prompt_input\":\n",
    "            obj[\"output\"] = input(\n",
    "                arguments[\"text\"]\n",
    "            )\n",
    "        \n",
    "        elif func.name == \"mark_completed\":\n",
    "            completed = True\n",
    "            break\n",
    "        obj[\"output\"] = json.dumps(obj[\"output\"])\n",
    "        tool_outputs.append(obj)\n",
    "    \n",
    "    print(\"TOOL OUTPUTS:\")\n",
    "    print(tool_outputs)\n",
    "    \n",
    "    run = client.beta.threads.runs.submit_tool_outputs(\n",
    "        thread_id=thread.id,\n",
    "        run_id=run.id,\n",
    "        tool_outputs = tool_outputs\n",
    "    )\n",
    "    \n",
    "    time.sleep(0.3)\n",
    "\n"
   ]
  },
  {
   "cell_type": "code",
   "execution_count": 42,
   "metadata": {},
   "outputs": [
    {
     "data": {
      "text/plain": [
       "SyncCursorPage[ThreadMessage](data=[ThreadMessage(id='msg_shOzS2dHEeRMC5EKjCY4KfAo', assistant_id='asst_0nOTf7URhjMnb6dYw3bgZUfB', content=[MessageContentText(text=Text(annotations=[], value=\"The description of the screen suggests that the user is currently working within the Visual Studio Code (VS Code) environment. There is no indication of a messaging application or interface open on the screen where a text could be sent to someone named Peter. \\n\\nTo proceed, I can prompt the user to open a messaging application where they usually communicate with Peter. If the user uses a messaging app that is command-line accessible or inter-operable with AppleScript or Automator, I might be able to automate the process of sending a text. Alternatively, if the user has an iPhone set up to send messages through their Mac, we could use the Messages app and AppleScript to send the text.\\n\\nSubtasks:\\n1. Prompt the user to specify the name of the messaging application they use to communicate with Peter.\\n2. Once I have the name, suggest opening that application if it's not already open.\\n3. If possible, automate the process of sending a text using the specified application.\\n\\nShall I proceed with the subtasks beginning by asking which messaging application should be used?\"), type='text')], created_at=1704936318, file_ids=[], metadata={}, object='thread.message', role='assistant', run_id='run_BYSDJmixGUjA480bb1OgS7sw', thread_id='thread_PPLPkoEvgSz8zc3wi7VVOxHS'), ThreadMessage(id='msg_JZj2Oaz4Lt1c3JITY3dsL3hE', assistant_id=None, content=[MessageContentText(text=Text(annotations=[], value='Send a text to Peter'), type='text')], created_at=1704936303, file_ids=[], metadata={}, object='thread.message', role='user', run_id=None, thread_id='thread_PPLPkoEvgSz8zc3wi7VVOxHS')], object='list', first_id='msg_shOzS2dHEeRMC5EKjCY4KfAo', last_id='msg_JZj2Oaz4Lt1c3JITY3dsL3hE', has_more=False)"
      ]
     },
     "execution_count": 42,
     "metadata": {},
     "output_type": "execute_result"
    }
   ],
   "source": [
    "client.beta.threads.messages.list(thread_id=thread.id)"
   ]
  },
  {
   "cell_type": "code",
   "execution_count": null,
   "metadata": {},
   "outputs": [],
   "source": []
  }
 ],
 "metadata": {
  "kernelspec": {
   "display_name": "Python 3",
   "language": "python",
   "name": "python3"
  },
  "language_info": {
   "codemirror_mode": {
    "name": "ipython",
    "version": 3
   },
   "file_extension": ".py",
   "mimetype": "text/x-python",
   "name": "python",
   "nbconvert_exporter": "python",
   "pygments_lexer": "ipython3",
   "version": "3.9.6"
  }
 },
 "nbformat": 4,
 "nbformat_minor": 2
}
